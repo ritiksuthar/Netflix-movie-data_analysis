{
 "cells": [
  {
   "cell_type": "code",
   "execution_count": 1,
   "id": "f2aaf597-7418-4018-bae3-bf27571486d7",
   "metadata": {},
   "outputs": [],
   "source": [
    "import pandas as pd\n",
    "import numpy as np\n",
    "import seaborn as sns\n",
    "import matplotlib.pyplot as plt"
   ]
  },
  {
   "cell_type": "code",
   "execution_count": 9,
   "id": "f08fb644-eeda-40a1-bf53-02d3aa583087",
   "metadata": {},
   "outputs": [],
   "source": [
    "df = pd.read_csv('mymoviedb.csv', lineterminator ='\\n')"
   ]
  },
  {
   "cell_type": "code",
   "execution_count": 6,
   "id": "bd44fb90-1c36-4cf2-8440-2c8b14ca5d9d",
   "metadata": {},
   "outputs": [
    {
     "data": {
      "text/html": [
       "<div>\n",
       "<style scoped>\n",
       "    .dataframe tbody tr th:only-of-type {\n",
       "        vertical-align: middle;\n",
       "    }\n",
       "\n",
       "    .dataframe tbody tr th {\n",
       "        vertical-align: top;\n",
       "    }\n",
       "\n",
       "    .dataframe thead th {\n",
       "        text-align: right;\n",
       "    }\n",
       "</style>\n",
       "<table border=\"1\" class=\"dataframe\">\n",
       "  <thead>\n",
       "    <tr style=\"text-align: right;\">\n",
       "      <th></th>\n",
       "      <th>Release_Date</th>\n",
       "      <th>Title</th>\n",
       "      <th>Overview</th>\n",
       "      <th>Popularity</th>\n",
       "      <th>Vote_Count</th>\n",
       "      <th>Vote_Average</th>\n",
       "      <th>Original_Language</th>\n",
       "      <th>Genre</th>\n",
       "      <th>Poster_Url</th>\n",
       "    </tr>\n",
       "  </thead>\n",
       "  <tbody>\n",
       "    <tr>\n",
       "      <th>0</th>\n",
       "      <td>2021-12-15</td>\n",
       "      <td>Spider-Man: No Way Home</td>\n",
       "      <td>Peter Parker is unmasked and no longer able to...</td>\n",
       "      <td>5083.954</td>\n",
       "      <td>8940</td>\n",
       "      <td>8.3</td>\n",
       "      <td>en</td>\n",
       "      <td>Action, Adventure, Science Fiction</td>\n",
       "      <td>https://image.tmdb.org/t/p/original/1g0dhYtq4i...</td>\n",
       "    </tr>\n",
       "    <tr>\n",
       "      <th>1</th>\n",
       "      <td>2022-03-01</td>\n",
       "      <td>The Batman</td>\n",
       "      <td>In his second year of fighting crime, Batman u...</td>\n",
       "      <td>3827.658</td>\n",
       "      <td>1151</td>\n",
       "      <td>8.1</td>\n",
       "      <td>en</td>\n",
       "      <td>Crime, Mystery, Thriller</td>\n",
       "      <td>https://image.tmdb.org/t/p/original/74xTEgt7R3...</td>\n",
       "    </tr>\n",
       "    <tr>\n",
       "      <th>2</th>\n",
       "      <td>2022-02-25</td>\n",
       "      <td>No Exit</td>\n",
       "      <td>Stranded at a rest stop in the mountains durin...</td>\n",
       "      <td>2618.087</td>\n",
       "      <td>122</td>\n",
       "      <td>6.3</td>\n",
       "      <td>en</td>\n",
       "      <td>Thriller</td>\n",
       "      <td>https://image.tmdb.org/t/p/original/vDHsLnOWKl...</td>\n",
       "    </tr>\n",
       "    <tr>\n",
       "      <th>3</th>\n",
       "      <td>2021-11-24</td>\n",
       "      <td>Encanto</td>\n",
       "      <td>The tale of an extraordinary family, the Madri...</td>\n",
       "      <td>2402.201</td>\n",
       "      <td>5076</td>\n",
       "      <td>7.7</td>\n",
       "      <td>en</td>\n",
       "      <td>Animation, Comedy, Family, Fantasy</td>\n",
       "      <td>https://image.tmdb.org/t/p/original/4j0PNHkMr5...</td>\n",
       "    </tr>\n",
       "    <tr>\n",
       "      <th>4</th>\n",
       "      <td>2021-12-22</td>\n",
       "      <td>The King's Man</td>\n",
       "      <td>As a collection of history's worst tyrants and...</td>\n",
       "      <td>1895.511</td>\n",
       "      <td>1793</td>\n",
       "      <td>7.0</td>\n",
       "      <td>en</td>\n",
       "      <td>Action, Adventure, Thriller, War</td>\n",
       "      <td>https://image.tmdb.org/t/p/original/aq4Pwv5Xeu...</td>\n",
       "    </tr>\n",
       "  </tbody>\n",
       "</table>\n",
       "</div>"
      ],
      "text/plain": [
       "  Release_Date                    Title  \\\n",
       "0   2021-12-15  Spider-Man: No Way Home   \n",
       "1   2022-03-01               The Batman   \n",
       "2   2022-02-25                  No Exit   \n",
       "3   2021-11-24                  Encanto   \n",
       "4   2021-12-22           The King's Man   \n",
       "\n",
       "                                            Overview  Popularity  Vote_Count  \\\n",
       "0  Peter Parker is unmasked and no longer able to...    5083.954        8940   \n",
       "1  In his second year of fighting crime, Batman u...    3827.658        1151   \n",
       "2  Stranded at a rest stop in the mountains durin...    2618.087         122   \n",
       "3  The tale of an extraordinary family, the Madri...    2402.201        5076   \n",
       "4  As a collection of history's worst tyrants and...    1895.511        1793   \n",
       "\n",
       "   Vote_Average Original_Language                               Genre  \\\n",
       "0           8.3                en  Action, Adventure, Science Fiction   \n",
       "1           8.1                en            Crime, Mystery, Thriller   \n",
       "2           6.3                en                            Thriller   \n",
       "3           7.7                en  Animation, Comedy, Family, Fantasy   \n",
       "4           7.0                en    Action, Adventure, Thriller, War   \n",
       "\n",
       "                                          Poster_Url  \n",
       "0  https://image.tmdb.org/t/p/original/1g0dhYtq4i...  \n",
       "1  https://image.tmdb.org/t/p/original/74xTEgt7R3...  \n",
       "2  https://image.tmdb.org/t/p/original/vDHsLnOWKl...  \n",
       "3  https://image.tmdb.org/t/p/original/4j0PNHkMr5...  \n",
       "4  https://image.tmdb.org/t/p/original/aq4Pwv5Xeu...  "
      ]
     },
     "execution_count": 6,
     "metadata": {},
     "output_type": "execute_result"
    }
   ],
   "source": [
    "df.head()"
   ]
  },
  {
   "cell_type": "code",
   "execution_count": 8,
   "id": "8cdb5e2e-2aa6-4a87-8276-c6c3f913c503",
   "metadata": {},
   "outputs": [
    {
     "name": "stdout",
     "output_type": "stream",
     "text": [
      "<class 'pandas.core.frame.DataFrame'>\n",
      "RangeIndex: 2447 entries, 0 to 2446\n",
      "Data columns (total 9 columns):\n",
      " #   Column             Non-Null Count  Dtype  \n",
      "---  ------             --------------  -----  \n",
      " 0   Release_Date       2447 non-null   object \n",
      " 1   Title              2447 non-null   object \n",
      " 2   Overview           2447 non-null   object \n",
      " 3   Popularity         2447 non-null   float64\n",
      " 4   Vote_Count         2447 non-null   int64  \n",
      " 5   Vote_Average       2447 non-null   float64\n",
      " 6   Original_Language  2447 non-null   object \n",
      " 7   Genre              2447 non-null   object \n",
      " 8   Poster_Url         2447 non-null   object \n",
      "dtypes: float64(2), int64(1), object(6)\n",
      "memory usage: 172.2+ KB\n"
     ]
    }
   ],
   "source": [
    "df.info()"
   ]
  },
  {
   "cell_type": "code",
   "execution_count": 12,
   "id": "96ef719f-9072-42f2-8f19-d0994aac3546",
   "metadata": {},
   "outputs": [
    {
     "data": {
      "text/html": [
       "<div>\n",
       "<style scoped>\n",
       "    .dataframe tbody tr th:only-of-type {\n",
       "        vertical-align: middle;\n",
       "    }\n",
       "\n",
       "    .dataframe tbody tr th {\n",
       "        vertical-align: top;\n",
       "    }\n",
       "\n",
       "    .dataframe thead th {\n",
       "        text-align: right;\n",
       "    }\n",
       "</style>\n",
       "<table border=\"1\" class=\"dataframe\">\n",
       "  <thead>\n",
       "    <tr style=\"text-align: right;\">\n",
       "      <th></th>\n",
       "      <th>Popularity</th>\n",
       "      <th>Vote_Count</th>\n",
       "      <th>Vote_Average</th>\n",
       "    </tr>\n",
       "  </thead>\n",
       "  <tbody>\n",
       "    <tr>\n",
       "      <th>count</th>\n",
       "      <td>2447.000000</td>\n",
       "      <td>2447.000000</td>\n",
       "      <td>2447.000000</td>\n",
       "    </tr>\n",
       "    <tr>\n",
       "      <th>mean</th>\n",
       "      <td>101.913947</td>\n",
       "      <td>3146.480180</td>\n",
       "      <td>6.625868</td>\n",
       "    </tr>\n",
       "    <tr>\n",
       "      <th>std</th>\n",
       "      <td>206.080884</td>\n",
       "      <td>4313.779159</td>\n",
       "      <td>1.102282</td>\n",
       "    </tr>\n",
       "    <tr>\n",
       "      <th>min</th>\n",
       "      <td>35.266000</td>\n",
       "      <td>0.000000</td>\n",
       "      <td>0.000000</td>\n",
       "    </tr>\n",
       "    <tr>\n",
       "      <th>25%</th>\n",
       "      <td>43.347500</td>\n",
       "      <td>227.000000</td>\n",
       "      <td>6.100000</td>\n",
       "    </tr>\n",
       "    <tr>\n",
       "      <th>50%</th>\n",
       "      <td>57.705000</td>\n",
       "      <td>1298.000000</td>\n",
       "      <td>6.700000</td>\n",
       "    </tr>\n",
       "    <tr>\n",
       "      <th>75%</th>\n",
       "      <td>92.618000</td>\n",
       "      <td>4559.000000</td>\n",
       "      <td>7.300000</td>\n",
       "    </tr>\n",
       "    <tr>\n",
       "      <th>max</th>\n",
       "      <td>5083.954000</td>\n",
       "      <td>31077.000000</td>\n",
       "      <td>9.100000</td>\n",
       "    </tr>\n",
       "  </tbody>\n",
       "</table>\n",
       "</div>"
      ],
      "text/plain": [
       "        Popularity    Vote_Count  Vote_Average\n",
       "count  2447.000000   2447.000000   2447.000000\n",
       "mean    101.913947   3146.480180      6.625868\n",
       "std     206.080884   4313.779159      1.102282\n",
       "min      35.266000      0.000000      0.000000\n",
       "25%      43.347500    227.000000      6.100000\n",
       "50%      57.705000   1298.000000      6.700000\n",
       "75%      92.618000   4559.000000      7.300000\n",
       "max    5083.954000  31077.000000      9.100000"
      ]
     },
     "execution_count": 12,
     "metadata": {},
     "output_type": "execute_result"
    }
   ],
   "source": [
    "df.describe()"
   ]
  },
  {
   "cell_type": "code",
   "execution_count": 59,
   "id": "1d2673bb-04ac-4a0c-afca-c57568d34f12",
   "metadata": {},
   "outputs": [
    {
     "name": "stdout",
     "output_type": "stream",
     "text": [
      "datetime64[ns]\n"
     ]
    }
   ],
   "source": [
    "df['Release_Date'] = pd.to_datetime(df['Release_Date'])\n",
    "\n",
    "print(df['Release_Date'].dtypes)"
   ]
  },
  {
   "cell_type": "code",
   "execution_count": 28,
   "id": "c82fc547-aae0-430a-942e-e781b1f23fdc",
   "metadata": {},
   "outputs": [
    {
     "name": "stdout",
     "output_type": "stream",
     "text": [
      "<class 'pandas.core.frame.DataFrame'>\n",
      "RangeIndex: 2447 entries, 0 to 2446\n",
      "Data columns (total 9 columns):\n",
      " #   Column             Non-Null Count  Dtype  \n",
      "---  ------             --------------  -----  \n",
      " 0   Release_Date       2447 non-null   int32  \n",
      " 1   Title              2447 non-null   object \n",
      " 2   Overview           2447 non-null   object \n",
      " 3   Popularity         2447 non-null   float64\n",
      " 4   Vote_Count         2447 non-null   int64  \n",
      " 5   Vote_Average       2447 non-null   float64\n",
      " 6   Original_Language  2447 non-null   object \n",
      " 7   Genre              2447 non-null   object \n",
      " 8   Poster_Url         2447 non-null   object \n",
      "dtypes: float64(2), int32(1), int64(1), object(5)\n",
      "memory usage: 162.6+ KB\n"
     ]
    }
   ],
   "source": [
    "df.info()"
   ]
  },
  {
   "cell_type": "code",
   "execution_count": 36,
   "id": "05db04a6-421d-42ef-99b8-a4b06ae1ecc4",
   "metadata": {},
   "outputs": [
    {
     "data": {
      "text/html": [
       "<div>\n",
       "<style scoped>\n",
       "    .dataframe tbody tr th:only-of-type {\n",
       "        vertical-align: middle;\n",
       "    }\n",
       "\n",
       "    .dataframe tbody tr th {\n",
       "        vertical-align: top;\n",
       "    }\n",
       "\n",
       "    .dataframe thead th {\n",
       "        text-align: right;\n",
       "    }\n",
       "</style>\n",
       "<table border=\"1\" class=\"dataframe\">\n",
       "  <thead>\n",
       "    <tr style=\"text-align: right;\">\n",
       "      <th></th>\n",
       "      <th>Release_Date</th>\n",
       "      <th>Title</th>\n",
       "      <th>Overview</th>\n",
       "      <th>Popularity</th>\n",
       "      <th>Vote_Count</th>\n",
       "      <th>Vote_Average</th>\n",
       "      <th>Original_Language</th>\n",
       "      <th>Genre</th>\n",
       "      <th>Poster_Url</th>\n",
       "    </tr>\n",
       "  </thead>\n",
       "  <tbody>\n",
       "    <tr>\n",
       "      <th>0</th>\n",
       "      <td>2021</td>\n",
       "      <td>Spider-Man: No Way Home</td>\n",
       "      <td>Peter Parker is unmasked and no longer able to...</td>\n",
       "      <td>5083.954</td>\n",
       "      <td>8940</td>\n",
       "      <td>8.3</td>\n",
       "      <td>en</td>\n",
       "      <td>Action, Adventure, Science Fiction</td>\n",
       "      <td>https://image.tmdb.org/t/p/original/1g0dhYtq4i...</td>\n",
       "    </tr>\n",
       "    <tr>\n",
       "      <th>1</th>\n",
       "      <td>2022</td>\n",
       "      <td>The Batman</td>\n",
       "      <td>In his second year of fighting crime, Batman u...</td>\n",
       "      <td>3827.658</td>\n",
       "      <td>1151</td>\n",
       "      <td>8.1</td>\n",
       "      <td>en</td>\n",
       "      <td>Crime, Mystery, Thriller</td>\n",
       "      <td>https://image.tmdb.org/t/p/original/74xTEgt7R3...</td>\n",
       "    </tr>\n",
       "    <tr>\n",
       "      <th>2</th>\n",
       "      <td>2022</td>\n",
       "      <td>No Exit</td>\n",
       "      <td>Stranded at a rest stop in the mountains durin...</td>\n",
       "      <td>2618.087</td>\n",
       "      <td>122</td>\n",
       "      <td>6.3</td>\n",
       "      <td>en</td>\n",
       "      <td>Thriller</td>\n",
       "      <td>https://image.tmdb.org/t/p/original/vDHsLnOWKl...</td>\n",
       "    </tr>\n",
       "    <tr>\n",
       "      <th>3</th>\n",
       "      <td>2021</td>\n",
       "      <td>Encanto</td>\n",
       "      <td>The tale of an extraordinary family, the Madri...</td>\n",
       "      <td>2402.201</td>\n",
       "      <td>5076</td>\n",
       "      <td>7.7</td>\n",
       "      <td>en</td>\n",
       "      <td>Animation, Comedy, Family, Fantasy</td>\n",
       "      <td>https://image.tmdb.org/t/p/original/4j0PNHkMr5...</td>\n",
       "    </tr>\n",
       "    <tr>\n",
       "      <th>4</th>\n",
       "      <td>2021</td>\n",
       "      <td>The King's Man</td>\n",
       "      <td>As a collection of history's worst tyrants and...</td>\n",
       "      <td>1895.511</td>\n",
       "      <td>1793</td>\n",
       "      <td>7.0</td>\n",
       "      <td>en</td>\n",
       "      <td>Action, Adventure, Thriller, War</td>\n",
       "      <td>https://image.tmdb.org/t/p/original/aq4Pwv5Xeu...</td>\n",
       "    </tr>\n",
       "  </tbody>\n",
       "</table>\n",
       "</div>"
      ],
      "text/plain": [
       "   Release_Date                    Title  \\\n",
       "0          2021  Spider-Man: No Way Home   \n",
       "1          2022               The Batman   \n",
       "2          2022                  No Exit   \n",
       "3          2021                  Encanto   \n",
       "4          2021           The King's Man   \n",
       "\n",
       "                                            Overview  Popularity  Vote_Count  \\\n",
       "0  Peter Parker is unmasked and no longer able to...    5083.954        8940   \n",
       "1  In his second year of fighting crime, Batman u...    3827.658        1151   \n",
       "2  Stranded at a rest stop in the mountains durin...    2618.087         122   \n",
       "3  The tale of an extraordinary family, the Madri...    2402.201        5076   \n",
       "4  As a collection of history's worst tyrants and...    1895.511        1793   \n",
       "\n",
       "   Vote_Average Original_Language                               Genre  \\\n",
       "0           8.3                en  Action, Adventure, Science Fiction   \n",
       "1           8.1                en            Crime, Mystery, Thriller   \n",
       "2           6.3                en                            Thriller   \n",
       "3           7.7                en  Animation, Comedy, Family, Fantasy   \n",
       "4           7.0                en    Action, Adventure, Thriller, War   \n",
       "\n",
       "                                          Poster_Url  \n",
       "0  https://image.tmdb.org/t/p/original/1g0dhYtq4i...  \n",
       "1  https://image.tmdb.org/t/p/original/74xTEgt7R3...  \n",
       "2  https://image.tmdb.org/t/p/original/vDHsLnOWKl...  \n",
       "3  https://image.tmdb.org/t/p/original/4j0PNHkMr5...  \n",
       "4  https://image.tmdb.org/t/p/original/aq4Pwv5Xeu...  "
      ]
     },
     "execution_count": 36,
     "metadata": {},
     "output_type": "execute_result"
    }
   ],
   "source": [
    "df.head()"
   ]
  },
  {
   "cell_type": "markdown",
   "id": "fda29d96-115f-4311-81da-84dce4eaa0f2",
   "metadata": {},
   "source": [
    "**categrioz vote_average colum\n",
    "we would cut the vote_average value make the 4 categries popular, average, below_aveg, no popular to describe more using caterogries_col() funcation privide abou"
   ]
  },
  {
   "cell_type": "code",
   "execution_count": 47,
   "id": "9c7ab835-ee4e-46f7-ab4b-594a9694b889",
   "metadata": {},
   "outputs": [],
   "source": [
    "def categorize_col(df,col,labels):\n",
    "\n",
    "    edges=[df[col].describe()['min'],\n",
    "           df[col].describe()['25%'],\n",
    "           df[col].describe()['50%'],\n",
    "           df[col].describe()['75%'],\n",
    "           df[col].describe()['max']]\n",
    "\n",
    "    df[col] = pd.cut(df[col], edges, labels = labels, duplicates = 'drop')\n",
    "    return df "
   ]
  },
  {
   "cell_type": "code",
   "execution_count": 49,
   "id": "c967b737-ea8e-4235-8261-6b3f7164d191",
   "metadata": {},
   "outputs": [
    {
     "data": {
      "text/plain": [
       "['popular', 'below_avg', 'average', 'not_popular', NaN]\n",
       "Categories (4, object): ['not_popular' < 'below_avg' < 'average' < 'popular']"
      ]
     },
     "execution_count": 49,
     "metadata": {},
     "output_type": "execute_result"
    }
   ],
   "source": [
    "labels = ['not_popular', 'below_avg', 'average', 'popular']\n",
    "\n",
    "categorize_col(df, 'Vote_Average', labels)\n",
    "df['Vote_Average'].unique()\n"
   ]
  },
  {
   "cell_type": "code",
   "execution_count": 60,
   "id": "05d9027a-0f28-49ad-9439-dad9ea802390",
   "metadata": {},
   "outputs": [
    {
     "data": {
      "text/html": [
       "<div>\n",
       "<style scoped>\n",
       "    .dataframe tbody tr th:only-of-type {\n",
       "        vertical-align: middle;\n",
       "    }\n",
       "\n",
       "    .dataframe tbody tr th {\n",
       "        vertical-align: top;\n",
       "    }\n",
       "\n",
       "    .dataframe thead th {\n",
       "        text-align: right;\n",
       "    }\n",
       "</style>\n",
       "<table border=\"1\" class=\"dataframe\">\n",
       "  <thead>\n",
       "    <tr style=\"text-align: right;\">\n",
       "      <th></th>\n",
       "      <th>Release_Date</th>\n",
       "      <th>Title</th>\n",
       "      <th>Overview</th>\n",
       "      <th>Popularity</th>\n",
       "      <th>Vote_Count</th>\n",
       "      <th>Vote_Average</th>\n",
       "      <th>Original_Language</th>\n",
       "      <th>Genre</th>\n",
       "      <th>Poster_Url</th>\n",
       "    </tr>\n",
       "  </thead>\n",
       "  <tbody>\n",
       "    <tr>\n",
       "      <th>0</th>\n",
       "      <td>2021</td>\n",
       "      <td>Spider-Man: No Way Home</td>\n",
       "      <td>Peter Parker is unmasked and no longer able to...</td>\n",
       "      <td>5083.954</td>\n",
       "      <td>8940</td>\n",
       "      <td>popular</td>\n",
       "      <td>en</td>\n",
       "      <td>Action, Adventure, Science Fiction</td>\n",
       "      <td>https://image.tmdb.org/t/p/original/1g0dhYtq4i...</td>\n",
       "    </tr>\n",
       "    <tr>\n",
       "      <th>1</th>\n",
       "      <td>2022</td>\n",
       "      <td>The Batman</td>\n",
       "      <td>In his second year of fighting crime, Batman u...</td>\n",
       "      <td>3827.658</td>\n",
       "      <td>1151</td>\n",
       "      <td>popular</td>\n",
       "      <td>en</td>\n",
       "      <td>Crime, Mystery, Thriller</td>\n",
       "      <td>https://image.tmdb.org/t/p/original/74xTEgt7R3...</td>\n",
       "    </tr>\n",
       "    <tr>\n",
       "      <th>2</th>\n",
       "      <td>2022</td>\n",
       "      <td>No Exit</td>\n",
       "      <td>Stranded at a rest stop in the mountains durin...</td>\n",
       "      <td>2618.087</td>\n",
       "      <td>122</td>\n",
       "      <td>below_avg</td>\n",
       "      <td>en</td>\n",
       "      <td>Thriller</td>\n",
       "      <td>https://image.tmdb.org/t/p/original/vDHsLnOWKl...</td>\n",
       "    </tr>\n",
       "    <tr>\n",
       "      <th>3</th>\n",
       "      <td>2021</td>\n",
       "      <td>Encanto</td>\n",
       "      <td>The tale of an extraordinary family, the Madri...</td>\n",
       "      <td>2402.201</td>\n",
       "      <td>5076</td>\n",
       "      <td>popular</td>\n",
       "      <td>en</td>\n",
       "      <td>Animation, Comedy, Family, Fantasy</td>\n",
       "      <td>https://image.tmdb.org/t/p/original/4j0PNHkMr5...</td>\n",
       "    </tr>\n",
       "    <tr>\n",
       "      <th>4</th>\n",
       "      <td>2021</td>\n",
       "      <td>The King's Man</td>\n",
       "      <td>As a collection of history's worst tyrants and...</td>\n",
       "      <td>1895.511</td>\n",
       "      <td>1793</td>\n",
       "      <td>average</td>\n",
       "      <td>en</td>\n",
       "      <td>Action, Adventure, Thriller, War</td>\n",
       "      <td>https://image.tmdb.org/t/p/original/aq4Pwv5Xeu...</td>\n",
       "    </tr>\n",
       "  </tbody>\n",
       "</table>\n",
       "</div>"
      ],
      "text/plain": [
       "   Release_Date                    Title  \\\n",
       "0          2021  Spider-Man: No Way Home   \n",
       "1          2022               The Batman   \n",
       "2          2022                  No Exit   \n",
       "3          2021                  Encanto   \n",
       "4          2021           The King's Man   \n",
       "\n",
       "                                            Overview  Popularity  Vote_Count  \\\n",
       "0  Peter Parker is unmasked and no longer able to...    5083.954        8940   \n",
       "1  In his second year of fighting crime, Batman u...    3827.658        1151   \n",
       "2  Stranded at a rest stop in the mountains durin...    2618.087         122   \n",
       "3  The tale of an extraordinary family, the Madri...    2402.201        5076   \n",
       "4  As a collection of history's worst tyrants and...    1895.511        1793   \n",
       "\n",
       "  Vote_Average Original_Language                               Genre  \\\n",
       "0      popular                en  Action, Adventure, Science Fiction   \n",
       "1      popular                en            Crime, Mystery, Thriller   \n",
       "2    below_avg                en                            Thriller   \n",
       "3      popular                en  Animation, Comedy, Family, Fantasy   \n",
       "4      average                en    Action, Adventure, Thriller, War   \n",
       "\n",
       "                                          Poster_Url  \n",
       "0  https://image.tmdb.org/t/p/original/1g0dhYtq4i...  \n",
       "1  https://image.tmdb.org/t/p/original/74xTEgt7R3...  \n",
       "2  https://image.tmdb.org/t/p/original/vDHsLnOWKl...  \n",
       "3  https://image.tmdb.org/t/p/original/4j0PNHkMr5...  \n",
       "4  https://image.tmdb.org/t/p/original/aq4Pwv5Xeu...  "
      ]
     },
     "execution_count": 60,
     "metadata": {},
     "output_type": "execute_result"
    }
   ],
   "source": [
    "df.head()"
   ]
  },
  {
   "cell_type": "code",
   "execution_count": 64,
   "id": "89704ae9-bc9f-456d-b4c9-c542b665266d",
   "metadata": {},
   "outputs": [
    {
     "data": {
      "text/plain": [
       "Vote_Average\n",
       "not_popular    622\n",
       "below_avg      621\n",
       "average        601\n",
       "popular        581\n",
       "Name: count, dtype: int64"
      ]
     },
     "execution_count": 64,
     "metadata": {},
     "output_type": "execute_result"
    }
   ],
   "source": [
    "df['Vote_Average'].value_counts()"
   ]
  },
  {
   "cell_type": "code",
   "execution_count": 66,
   "id": "0feb45da-e131-45c1-85f6-1188854e49aa",
   "metadata": {},
   "outputs": [
    {
     "data": {
      "text/plain": [
       "Release_Date         0\n",
       "Title                0\n",
       "Overview             0\n",
       "Popularity           0\n",
       "Vote_Count           0\n",
       "Vote_Average         0\n",
       "Original_Language    0\n",
       "Genre                0\n",
       "Poster_Url           0\n",
       "dtype: int64"
      ]
     },
     "execution_count": 66,
     "metadata": {},
     "output_type": "execute_result"
    }
   ],
   "source": [
    "df.dropna(inplace = True)\n",
    "\n",
    "df.isna().sum()"
   ]
  },
  {
   "cell_type": "code",
   "execution_count": 25,
   "id": "447e34a8-8ee8-478d-a5bd-f417a07ebd2f",
   "metadata": {},
   "outputs": [
    {
     "data": {
      "text/html": [
       "<div>\n",
       "<style scoped>\n",
       "    .dataframe tbody tr th:only-of-type {\n",
       "        vertical-align: middle;\n",
       "    }\n",
       "\n",
       "    .dataframe tbody tr th {\n",
       "        vertical-align: top;\n",
       "    }\n",
       "\n",
       "    .dataframe thead th {\n",
       "        text-align: right;\n",
       "    }\n",
       "</style>\n",
       "<table border=\"1\" class=\"dataframe\">\n",
       "  <thead>\n",
       "    <tr style=\"text-align: right;\">\n",
       "      <th></th>\n",
       "      <th>Release_Date</th>\n",
       "      <th>Title</th>\n",
       "      <th>Overview</th>\n",
       "      <th>Popularity</th>\n",
       "      <th>Vote_Count</th>\n",
       "      <th>Vote_Average</th>\n",
       "      <th>Original_Language</th>\n",
       "      <th>Genre</th>\n",
       "      <th>Poster_Url</th>\n",
       "    </tr>\n",
       "  </thead>\n",
       "  <tbody>\n",
       "    <tr>\n",
       "      <th>0</th>\n",
       "      <td>2021-12-15</td>\n",
       "      <td>Spider-Man: No Way Home</td>\n",
       "      <td>Peter Parker is unmasked and no longer able to...</td>\n",
       "      <td>5083.954</td>\n",
       "      <td>8940</td>\n",
       "      <td>8.3</td>\n",
       "      <td>en</td>\n",
       "      <td>Action</td>\n",
       "      <td>https://image.tmdb.org/t/p/original/1g0dhYtq4i...</td>\n",
       "    </tr>\n",
       "    <tr>\n",
       "      <th>1</th>\n",
       "      <td>2021-12-15</td>\n",
       "      <td>Spider-Man: No Way Home</td>\n",
       "      <td>Peter Parker is unmasked and no longer able to...</td>\n",
       "      <td>5083.954</td>\n",
       "      <td>8940</td>\n",
       "      <td>8.3</td>\n",
       "      <td>en</td>\n",
       "      <td>Adventure</td>\n",
       "      <td>https://image.tmdb.org/t/p/original/1g0dhYtq4i...</td>\n",
       "    </tr>\n",
       "    <tr>\n",
       "      <th>2</th>\n",
       "      <td>2021-12-15</td>\n",
       "      <td>Spider-Man: No Way Home</td>\n",
       "      <td>Peter Parker is unmasked and no longer able to...</td>\n",
       "      <td>5083.954</td>\n",
       "      <td>8940</td>\n",
       "      <td>8.3</td>\n",
       "      <td>en</td>\n",
       "      <td>Science Fiction</td>\n",
       "      <td>https://image.tmdb.org/t/p/original/1g0dhYtq4i...</td>\n",
       "    </tr>\n",
       "    <tr>\n",
       "      <th>3</th>\n",
       "      <td>2022-03-01</td>\n",
       "      <td>The Batman</td>\n",
       "      <td>In his second year of fighting crime, Batman u...</td>\n",
       "      <td>3827.658</td>\n",
       "      <td>1151</td>\n",
       "      <td>8.1</td>\n",
       "      <td>en</td>\n",
       "      <td>Crime</td>\n",
       "      <td>https://image.tmdb.org/t/p/original/74xTEgt7R3...</td>\n",
       "    </tr>\n",
       "    <tr>\n",
       "      <th>4</th>\n",
       "      <td>2022-03-01</td>\n",
       "      <td>The Batman</td>\n",
       "      <td>In his second year of fighting crime, Batman u...</td>\n",
       "      <td>3827.658</td>\n",
       "      <td>1151</td>\n",
       "      <td>8.1</td>\n",
       "      <td>en</td>\n",
       "      <td>Mystery</td>\n",
       "      <td>https://image.tmdb.org/t/p/original/74xTEgt7R3...</td>\n",
       "    </tr>\n",
       "  </tbody>\n",
       "</table>\n",
       "</div>"
      ],
      "text/plain": [
       "  Release_Date                    Title  \\\n",
       "0   2021-12-15  Spider-Man: No Way Home   \n",
       "1   2021-12-15  Spider-Man: No Way Home   \n",
       "2   2021-12-15  Spider-Man: No Way Home   \n",
       "3   2022-03-01               The Batman   \n",
       "4   2022-03-01               The Batman   \n",
       "\n",
       "                                            Overview  Popularity  Vote_Count  \\\n",
       "0  Peter Parker is unmasked and no longer able to...    5083.954        8940   \n",
       "1  Peter Parker is unmasked and no longer able to...    5083.954        8940   \n",
       "2  Peter Parker is unmasked and no longer able to...    5083.954        8940   \n",
       "3  In his second year of fighting crime, Batman u...    3827.658        1151   \n",
       "4  In his second year of fighting crime, Batman u...    3827.658        1151   \n",
       "\n",
       "   Vote_Average Original_Language            Genre  \\\n",
       "0           8.3                en           Action   \n",
       "1           8.3                en        Adventure   \n",
       "2           8.3                en  Science Fiction   \n",
       "3           8.1                en            Crime   \n",
       "4           8.1                en          Mystery   \n",
       "\n",
       "                                          Poster_Url  \n",
       "0  https://image.tmdb.org/t/p/original/1g0dhYtq4i...  \n",
       "1  https://image.tmdb.org/t/p/original/1g0dhYtq4i...  \n",
       "2  https://image.tmdb.org/t/p/original/1g0dhYtq4i...  \n",
       "3  https://image.tmdb.org/t/p/original/74xTEgt7R3...  \n",
       "4  https://image.tmdb.org/t/p/original/74xTEgt7R3...  "
      ]
     },
     "execution_count": 25,
     "metadata": {},
     "output_type": "execute_result"
    }
   ],
   "source": [
    "#we'd split genres into a list and then explode our datafrmae to have only one genre per row for each movie \n",
    "df['Genre'] = df['Genre'].str.split(', ')\n",
    "\n",
    "df = df.explode('Genre').reset_index(drop=True)\n",
    "df.head()"
   ]
  },
  {
   "cell_type": "code",
   "execution_count": 27,
   "id": "d8bd04aa-27b9-4a58-ad3d-2e00692949ed",
   "metadata": {},
   "outputs": [
    {
     "data": {
      "text/plain": [
       "CategoricalDtype(categories=['Action', 'Adventure', 'Animation', 'Comedy', 'Crime',\n",
       "                  'Documentary', 'Drama', 'Family', 'Fantasy', 'History',\n",
       "                  'Horror', 'Music', 'Mystery', 'Romance', 'Science Fiction',\n",
       "                  'TV Movie', 'Thriller', 'War', 'Western'],\n",
       ", ordered=False, categories_dtype=object)"
      ]
     },
     "execution_count": 27,
     "metadata": {},
     "output_type": "execute_result"
    }
   ],
   "source": [
    "#casting colum into categry\n",
    "\n",
    "df['Genre'] = df['Genre'].astype('category')\n",
    "\n",
    "df['Genre'].dtypes"
   ]
  },
  {
   "cell_type": "code",
   "execution_count": 3,
   "id": "4e6da1a9-39a5-492a-ae66-95d2d09d44f9",
   "metadata": {},
   "outputs": [],
   "source": [
    "#data visulation \n",
    "sns.set_style('whitegrid') "
   ]
  },
  {
   "cell_type": "code",
   "execution_count": 29,
   "id": "b7951237-99a8-4423-be66-effe5ff4cf81",
   "metadata": {},
   "outputs": [
    {
     "data": {
      "text/plain": [
       "count       6787\n",
       "unique        19\n",
       "top       Action\n",
       "freq         876\n",
       "Name: Genre, dtype: object"
      ]
     },
     "execution_count": 29,
     "metadata": {},
     "output_type": "execute_result"
    }
   ],
   "source": [
    "#1_what is the most frequent genre of movies relesad on Netflix...?\n",
    "df['Genre'].describe()"
   ]
  },
  {
   "cell_type": "code",
   "execution_count": 33,
   "id": "87bed06b-5df1-4e5a-8cb3-50475e8f9242",
   "metadata": {},
   "outputs": [
    {
     "data": {
      "image/png": "[encoded data removed]",
      "text/plain": [
       "<Figure size 511.111x500 with 1 Axes>"
      ]
     },
     "metadata": {},
     "output_type": "display_data"
    }
   ],
   "source": [
    "sns.catplot(y= 'Genre',data = df, kind= 'count', \n",
    "            order= df['Genre'].value_counts().index,\n",
    "            color = '#4287f5')\n",
    "\n",
    "plt.title('Genre column distribution')\n",
    "plt.show()"
   ]
  },
  {
   "cell_type": "code",
   "execution_count": 51,
   "id": "2ab9f8c9-55bb-40d3-b7b7-87e68e490cec",
   "metadata": {},
   "outputs": [
    {
     "data": {
      "image/png": "[encoded data removed]",
      "text/plain": [
       "<Figure size 511.111x500 with 1 Axes>"
      ]
     },
     "metadata": {},
     "output_type": "display_data"
    }
   ],
   "source": [
    "#2_which has hightes votes in vote avg column...?\n",
    "\n",
    "sns.catplot(y ='Vote_Average', data=df, kind= 'count',\n",
    "            order = df['Vote_Average'].value_counts().index,\n",
    "            color = '#4287f5')\n",
    "\n",
    "plt.title('Votes_distibution')\n",
    "\n",
    "plt.show()"
   ]
  },
  {
   "cell_type": "code",
   "execution_count": 53,
   "id": "2585283c-9692-4693-9ef4-552adb211d9b",
   "metadata": {},
   "outputs": [
    {
     "data": {
      "text/html": [
       "<div>\n",
       "<style scoped>\n",
       "    .dataframe tbody tr th:only-of-type {\n",
       "        vertical-align: middle;\n",
       "    }\n",
       "\n",
       "    .dataframe tbody tr th {\n",
       "        vertical-align: top;\n",
       "    }\n",
       "\n",
       "    .dataframe thead th {\n",
       "        text-align: right;\n",
       "    }\n",
       "</style>\n",
       "<table border=\"1\" class=\"dataframe\">\n",
       "  <thead>\n",
       "    <tr style=\"text-align: right;\">\n",
       "      <th></th>\n",
       "      <th>Release_Date</th>\n",
       "      <th>Title</th>\n",
       "      <th>Overview</th>\n",
       "      <th>Popularity</th>\n",
       "      <th>Vote_Count</th>\n",
       "      <th>Vote_Average</th>\n",
       "      <th>Original_Language</th>\n",
       "      <th>Genre</th>\n",
       "      <th>Poster_Url</th>\n",
       "    </tr>\n",
       "  </thead>\n",
       "  <tbody>\n",
       "    <tr>\n",
       "      <th>0</th>\n",
       "      <td>2021-12-15</td>\n",
       "      <td>Spider-Man: No Way Home</td>\n",
       "      <td>Peter Parker is unmasked and no longer able to...</td>\n",
       "      <td>5083.954</td>\n",
       "      <td>8940</td>\n",
       "      <td>popular</td>\n",
       "      <td>en</td>\n",
       "      <td>Action</td>\n",
       "      <td>https://image.tmdb.org/t/p/original/1g0dhYtq4i...</td>\n",
       "    </tr>\n",
       "    <tr>\n",
       "      <th>1</th>\n",
       "      <td>2021-12-15</td>\n",
       "      <td>Spider-Man: No Way Home</td>\n",
       "      <td>Peter Parker is unmasked and no longer able to...</td>\n",
       "      <td>5083.954</td>\n",
       "      <td>8940</td>\n",
       "      <td>popular</td>\n",
       "      <td>en</td>\n",
       "      <td>Adventure</td>\n",
       "      <td>https://image.tmdb.org/t/p/original/1g0dhYtq4i...</td>\n",
       "    </tr>\n",
       "    <tr>\n",
       "      <th>2</th>\n",
       "      <td>2021-12-15</td>\n",
       "      <td>Spider-Man: No Way Home</td>\n",
       "      <td>Peter Parker is unmasked and no longer able to...</td>\n",
       "      <td>5083.954</td>\n",
       "      <td>8940</td>\n",
       "      <td>popular</td>\n",
       "      <td>en</td>\n",
       "      <td>Science Fiction</td>\n",
       "      <td>https://image.tmdb.org/t/p/original/1g0dhYtq4i...</td>\n",
       "    </tr>\n",
       "  </tbody>\n",
       "</table>\n",
       "</div>"
      ],
      "text/plain": [
       "  Release_Date                    Title  \\\n",
       "0   2021-12-15  Spider-Man: No Way Home   \n",
       "1   2021-12-15  Spider-Man: No Way Home   \n",
       "2   2021-12-15  Spider-Man: No Way Home   \n",
       "\n",
       "                                            Overview  Popularity  Vote_Count  \\\n",
       "0  Peter Parker is unmasked and no longer able to...    5083.954        8940   \n",
       "1  Peter Parker is unmasked and no longer able to...    5083.954        8940   \n",
       "2  Peter Parker is unmasked and no longer able to...    5083.954        8940   \n",
       "\n",
       "  Vote_Average Original_Language            Genre  \\\n",
       "0      popular                en           Action   \n",
       "1      popular                en        Adventure   \n",
       "2      popular                en  Science Fiction   \n",
       "\n",
       "                                          Poster_Url  \n",
       "0  https://image.tmdb.org/t/p/original/1g0dhYtq4i...  \n",
       "1  https://image.tmdb.org/t/p/original/1g0dhYtq4i...  \n",
       "2  https://image.tmdb.org/t/p/original/1g0dhYtq4i...  "
      ]
     },
     "execution_count": 53,
     "metadata": {},
     "output_type": "execute_result"
    }
   ],
   "source": [
    "#3_what movie got the highest popularity...? what is gerne...?\n",
    "\n",
    "df[df['Popularity'] == df['Popularity'].max()]"
   ]
  },
  {
   "cell_type": "code",
   "execution_count": 55,
   "id": "d52c692a-bfa3-4c54-a252-cf3ef129f04e",
   "metadata": {},
   "outputs": [
    {
     "data": {
      "text/html": [
       "<div>\n",
       "<style scoped>\n",
       "    .dataframe tbody tr th:only-of-type {\n",
       "        vertical-align: middle;\n",
       "    }\n",
       "\n",
       "    .dataframe tbody tr th {\n",
       "        vertical-align: top;\n",
       "    }\n",
       "\n",
       "    .dataframe thead th {\n",
       "        text-align: right;\n",
       "    }\n",
       "</style>\n",
       "<table border=\"1\" class=\"dataframe\">\n",
       "  <thead>\n",
       "    <tr style=\"text-align: right;\">\n",
       "      <th></th>\n",
       "      <th>Release_Date</th>\n",
       "      <th>Title</th>\n",
       "      <th>Overview</th>\n",
       "      <th>Popularity</th>\n",
       "      <th>Vote_Count</th>\n",
       "      <th>Vote_Average</th>\n",
       "      <th>Original_Language</th>\n",
       "      <th>Genre</th>\n",
       "      <th>Poster_Url</th>\n",
       "    </tr>\n",
       "  </thead>\n",
       "  <tbody>\n",
       "    <tr>\n",
       "      <th>6783</th>\n",
       "      <td>1991-11-21</td>\n",
       "      <td>An American Tail: Fievel Goes West</td>\n",
       "      <td>Some time after the Mousekewitz's have settled...</td>\n",
       "      <td>35.266</td>\n",
       "      <td>588</td>\n",
       "      <td>below_avg</td>\n",
       "      <td>en</td>\n",
       "      <td>Adventure</td>\n",
       "      <td>https://im</td>\n",
       "    </tr>\n",
       "    <tr>\n",
       "      <th>6784</th>\n",
       "      <td>1991-11-21</td>\n",
       "      <td>An American Tail: Fievel Goes West</td>\n",
       "      <td>Some time after the Mousekewitz's have settled...</td>\n",
       "      <td>35.266</td>\n",
       "      <td>588</td>\n",
       "      <td>below_avg</td>\n",
       "      <td>en</td>\n",
       "      <td>Animation</td>\n",
       "      <td>https://im</td>\n",
       "    </tr>\n",
       "    <tr>\n",
       "      <th>6785</th>\n",
       "      <td>1991-11-21</td>\n",
       "      <td>An American Tail: Fievel Goes West</td>\n",
       "      <td>Some time after the Mousekewitz's have settled...</td>\n",
       "      <td>35.266</td>\n",
       "      <td>588</td>\n",
       "      <td>below_avg</td>\n",
       "      <td>en</td>\n",
       "      <td>Family</td>\n",
       "      <td>https://im</td>\n",
       "    </tr>\n",
       "    <tr>\n",
       "      <th>6786</th>\n",
       "      <td>1991-11-21</td>\n",
       "      <td>An American Tail: Fievel Goes West</td>\n",
       "      <td>Some time after the Mousekewitz's have settled...</td>\n",
       "      <td>35.266</td>\n",
       "      <td>588</td>\n",
       "      <td>below_avg</td>\n",
       "      <td>en</td>\n",
       "      <td>Western</td>\n",
       "      <td>https://im</td>\n",
       "    </tr>\n",
       "  </tbody>\n",
       "</table>\n",
       "</div>"
      ],
      "text/plain": [
       "     Release_Date                               Title  \\\n",
       "6783   1991-11-21  An American Tail: Fievel Goes West   \n",
       "6784   1991-11-21  An American Tail: Fievel Goes West   \n",
       "6785   1991-11-21  An American Tail: Fievel Goes West   \n",
       "6786   1991-11-21  An American Tail: Fievel Goes West   \n",
       "\n",
       "                                               Overview  Popularity  \\\n",
       "6783  Some time after the Mousekewitz's have settled...      35.266   \n",
       "6784  Some time after the Mousekewitz's have settled...      35.266   \n",
       "6785  Some time after the Mousekewitz's have settled...      35.266   \n",
       "6786  Some time after the Mousekewitz's have settled...      35.266   \n",
       "\n",
       "      Vote_Count Vote_Average Original_Language      Genre  Poster_Url  \n",
       "6783         588    below_avg                en  Adventure  https://im  \n",
       "6784         588    below_avg                en  Animation  https://im  \n",
       "6785         588    below_avg                en     Family  https://im  \n",
       "6786         588    below_avg                en    Western  https://im  "
      ]
     },
     "execution_count": 55,
     "metadata": {},
     "output_type": "execute_result"
    }
   ],
   "source": [
    "#4_what movie got the lowest popularity...? what is gerne...?\n",
    "\n",
    "df[df['Popularity'] == df['Popularity'].min()]"
   ]
  },
  {
   "cell_type": "code",
   "execution_count": 65,
   "id": "b77a0727-71d1-488f-a777-8e29c5d5f99b",
   "metadata": {},
   "outputs": [
    {
     "data": {
      "text/plain": [
       "<function matplotlib.pyplot.show(close=None, block=None)>"
      ]
     },
     "execution_count": 65,
     "metadata": {},
     "output_type": "execute_result"
    },
    {
     "data": {
      "image/png": "[encoded data removed]",
      "text/plain": [
       "<Figure size 640x480 with 1 Axes>"
      ]
     },
     "metadata": {},
     "output_type": "display_data"
    }
   ],
   "source": [
    "#5_which year hs the most filmmed movies...?\n",
    "\n",
    "df['Release_Date'].hist()\n",
    "plt.title('Relese Date colum distribution')\n",
    "plt.show\n"
   ]
  },
  {
   "cell_type": "code",
   "execution_count": null,
   "id": "bf1101eb-db40-44fa-ab46-6fdbff445b16",
   "metadata": {},
   "outputs": [],
   "source": []
  }
 ],
 "metadata": {
  "kernelspec": {
   "display_name": "Python 3 (ipykernel)",
   "language": "python",
   "name": "python3"
  },
  "language_info": {
   "codemirror_mode": {
    "name": "ipython",
    "version": 3
   },
   "file_extension": ".py",
   "mimetype": "text/x-python",
   "name": "python",
   "nbconvert_exporter": "python",
   "pygments_lexer": "ipython3",
   "version": "3.12.7"
  }
 },
 "nbformat": 4,
 "nbformat_minor": 5
}
